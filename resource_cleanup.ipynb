{
 "cells": [
  {
   "cell_type": "code",
   "execution_count": 53,
   "id": "bc078d3d-c3ce-4f2b-9fe2-0e146a34f39a",
   "metadata": {},
   "outputs": [],
   "source": [
    "import argparse\n",
    "import logging\n",
    "import os\n",
    "import sys\n",
    "from datetime import datetime, timedelta\n",
    "import openstack\n",
    "import psycopg2\n",
    "from psycopg2.extras import RealDictCursor\n",
    "from typing import Dict, List, Any\n",
    "from dotenv import load_dotenv\n",
    "from keystoneauth1.identity import v3\n",
    "from keystoneauth1 import session\n",
    "from openstack import connection\n",
    "from tabulate import tabulate\n",
    "\n"
   ]
  },
  {
   "cell_type": "code",
   "execution_count": 54,
   "id": "ef288389-d5ed-4b9b-9d8a-14f64f2ae60f",
   "metadata": {},
   "outputs": [],
   "source": [
    "logging.basicConfig(\n",
    "    level=logging.INFO,\n",
    "    format='%(asctime)s - %(name)s - %(levelname)s - %(message)s',\n",
    "    handlers=[\n",
    "        logging.FileHandler('resource_cleanup.log'),\n",
    "        logging.StreamHandler()\n",
    "    ]\n",
    ")\n",
    "logger = logging.getLogger(__name__)"
   ]
  },
  {
   "cell_type": "code",
   "execution_count": 55,
   "id": "ca6c7a57-ab72-4ce9-9b3b-5b572b7a0cdd",
   "metadata": {},
   "outputs": [],
   "source": [
    "import pytz\n",
    "\n",
    "est = pytz.timezone('America/New_York')\n",
    "\n",
    "# January 26th, 2025 8:00 PM EST\n",
    "cutoff_time = datetime(2025, 1, 28, 20, 45, 0, tzinfo=est)\n",
    "\n",
    "# Convert to UTC for database query since it's best practice to store timestamps in UTC\n",
    "cutoff_time = cutoff_time.astimezone(pytz.UTC)"
   ]
  },
  {
   "cell_type": "code",
   "execution_count": 56,
   "id": "cd5de311-d504-481a-9bf3-56fee0763bcb",
   "metadata": {},
   "outputs": [
    {
     "name": "stdout",
     "output_type": "stream",
     "text": [
      "2025-01-29 01:41:00+00:00\n"
     ]
    }
   ],
   "source": [
    "print(cutoff_time)"
   ]
  },
  {
   "cell_type": "code",
   "execution_count": 57,
   "id": "316d1b0b-6b5c-43f8-8c4a-823f0b82cef9",
   "metadata": {},
   "outputs": [
    {
     "data": {
      "text/plain": [
       "True"
      ]
     },
     "execution_count": 57,
     "metadata": {},
     "output_type": "execute_result"
    }
   ],
   "source": [
    "load_dotenv()"
   ]
  },
  {
   "cell_type": "code",
   "execution_count": 5,
   "id": "6b4748ec-72f3-45de-9693-fb9f1350ea3f",
   "metadata": {},
   "outputs": [],
   "source": [
    "db_params = {\n",
    "            'dbname': os.getenv('DB_NAME'),\n",
    "            'user': os.getenv('DB_USER'),\n",
    "            'password': os.getenv('DB_PASSWORD'),\n",
    "            'host': os.getenv('DB_HOST'),\n",
    "            'port': os.getenv('DB_PORT')\n",
    "        }\n",
    "\n",
    "\n",
    "auth = v3.ApplicationCredential(\n",
    "            auth_url=os.getenv('OS_AUTH_URL'),\n",
    "            application_credential_id=os.getenv('OS_APPLICATION_CREDENTIAL_ID'),\n",
    "            application_credential_secret=os.getenv('OS_APPLICATION_CREDENTIAL_SECRET')\n",
    "        )\n",
    "os_sess = session.Session(auth=auth)\n",
    "os_conn = connection.Connection(session=os_sess)"
   ]
  },
  {
   "cell_type": "code",
   "execution_count": 19,
   "id": "367cad30-3737-4418-94a4-6e3cd2a43b00",
   "metadata": {},
   "outputs": [],
   "source": [
    "def get_resources_to_delete() -> Dict[str, List[Dict]]:\n",
    "        \"\"\"Get resources older than specified hours that are still active\"\"\"\n",
    "\n",
    "        # Calculating cut off time as (current timestamp - no of hours given as argument)\n",
    "        est = pytz.timezone('America/New_York')\n",
    "\n",
    "        # January 26th, 2025 8:00 PM EST\n",
    "        cutoff_time = datetime(2025, 1, 27, 20, 0, 0, tzinfo=est)\n",
    "        \n",
    "        # Convert to UTC for database query since it's best practice to store timestamps in UTC\n",
    "        cutoff_time = cutoff_time.astimezone(pytz.UTC)\n",
    "        \n",
    "        try:\n",
    "            with psycopg2.connect(**db_params) as conn:\n",
    "                with conn.cursor(cursor_factory=RealDictCursor) as cur:\n",
    "                    resources = {}\n",
    "                    \n",
    "                    # Servers query\n",
    "                    cur.execute(\"\"\"\n",
    "                        SELECT \n",
    "                            resource_id, resource_name, status, created_time,\n",
    "                            updated_time, last_seen_time, first_time_not_seen,\n",
    "                            flavor, image, security_groups, addresses\n",
    "                        FROM servers\n",
    "                        WHERE created_time > %s\n",
    "                        AND first_time_not_seen IS NULL\n",
    "                        ORDER BY created_time ASC\n",
    "                    \"\"\", (cutoff_time,))\n",
    "                    resources['servers'] = cur.fetchall()\n",
    "                    \n",
    "                    # Networks query\n",
    "                    cur.execute(\"\"\"\n",
    "                        SELECT \n",
    "                            resource_id, resource_name, status, created_time,\n",
    "                            updated_time, last_seen_time, first_time_not_seen,\n",
    "                            port_security_enabled\n",
    "                        FROM networks\n",
    "                        WHERE created_time > %s\n",
    "                        AND first_time_not_seen IS NULL\n",
    "                        ORDER BY created_time ASC\n",
    "                    \"\"\", (cutoff_time,))\n",
    "                    resources['networks'] = cur.fetchall()\n",
    "                    \n",
    "                    # Routers query\n",
    "                    cur.execute(\"\"\"\n",
    "                        SELECT \n",
    "                            resource_id, resource_name, status, created_time,\n",
    "                            updated_time, last_seen_time, first_time_not_seen,\n",
    "                            external_gateway_info\n",
    "                        FROM routers\n",
    "                        WHERE created_time > %s\n",
    "                        AND first_time_not_seen IS NULL\n",
    "                        ORDER BY created_time ASC\n",
    "                    \"\"\", (cutoff_time,))\n",
    "                    resources['routers'] = cur.fetchall()\n",
    "                    \n",
    "                    # Subnets query\n",
    "                    cur.execute(\"\"\"\n",
    "                        SELECT \n",
    "                            resource_id, resource_name, status, created_time,\n",
    "                            updated_time, last_seen_time, first_time_not_seen,\n",
    "                            network_id, allocation_pools, cidr\n",
    "                        FROM subnets\n",
    "                        WHERE created_time > %s\n",
    "                        AND first_time_not_seen IS NULL\n",
    "                        ORDER BY created_time ASC\n",
    "                    \"\"\", (cutoff_time,))\n",
    "                    resources['subnets'] = cur.fetchall()\n",
    "                        \n",
    "            return resources\n",
    "            \n",
    "        except Exception as e:\n",
    "            logger.error(f\"Database error: {str(e)}\")\n",
    "            raise"
   ]
  },
  {
   "cell_type": "code",
   "execution_count": 20,
   "id": "e2652608-6357-49eb-ada2-24d5f97c6e45",
   "metadata": {},
   "outputs": [],
   "source": [
    "def display_resources(resources: Dict[str, List[Dict]]):\n",
    "        \"\"\"Display resources that will be deleted\"\"\"\n",
    "        for resource_type, items in resources.items():\n",
    "            if items:\n",
    "                print(f\"\\n{resource_type.upper()} to be deleted:\")\n",
    "                table_data = []\n",
    "                for item in items:\n",
    "                    age = datetime.now() - item['created_time']\n",
    "                    row = [\n",
    "                        item['resource_name'],\n",
    "                        item['status'],\n",
    "                        item['created_time'].strftime('%Y-%m-%d %H:%M:%S'),\n",
    "                        f\"{age.days}d {age.seconds//3600}h\",\n",
    "                        item['last_seen_time'].strftime('%Y-%m-%d %H:%M:%S')\n",
    "                    ]\n",
    "                    \n",
    "                    # Add resource-specific information\n",
    "                    if resource_type == 'servers':\n",
    "                        row.append(f\"Flavor: {item['flavor']}\")\n",
    "                    elif resource_type == 'subnets':\n",
    "                        row.append(f\"CIDR: {item['cidr']}\")\n",
    "                    \n",
    "                    table_data.append(row)\n",
    "\n",
    "                headers = ['Name', 'Status', 'Created', 'Age', 'Last Seen', 'Details']\n",
    "                print(tabulate(table_data, headers=headers, tablefmt='grid'))"
   ]
  },
  {
   "cell_type": "code",
   "execution_count": 58,
   "id": "d99c7053-68bf-4c4e-8288-c8a5b69d4a19",
   "metadata": {},
   "outputs": [
    {
     "name": "stdout",
     "output_type": "stream",
     "text": [
      "\n",
      "SERVERS to be deleted:\n",
      "+----------------+----------+---------------------+-------+---------------------+-------------------+\n",
      "| Name           | Status   | Created             | Age   | Last Seen           | Details           |\n",
      "+================+==========+=====================+=======+=====================+===================+\n",
      "| node-0_testing | ACTIVE   | 2025-01-28 01:45:13 | 0d 0h | 2025-01-28 01:54:55 | Flavor: m1.medium |\n",
      "+----------------+----------+---------------------+-------+---------------------+-------------------+\n",
      "\n",
      "NETWORKS to be deleted:\n",
      "+--------------------+----------+---------------------+-------+---------------------+\n",
      "| Name               | Status   | Created             | Age   | Last Seen           |\n",
      "+====================+==========+=====================+=======+=====================+\n",
      "| public_net_testing | ACTIVE   | 2025-01-28 01:45:07 | 0d 0h | 2025-01-28 01:54:55 |\n",
      "+--------------------+----------+---------------------+-------+---------------------+\n",
      "| exp_net0_testing   | ACTIVE   | 2025-01-28 01:45:08 | 0d 0h | 2025-01-28 01:54:55 |\n",
      "+--------------------+----------+---------------------+-------+---------------------+\n",
      "\n",
      "ROUTERS to be deleted:\n",
      "+---------------------+----------+---------------------+-------+---------------------+\n",
      "| Name                | Status   | Created             | Age   | Last Seen           |\n",
      "+=====================+==========+=====================+=======+=====================+\n",
      "| inet_router_testing | ACTIVE   | 2025-01-28 01:45:36 | 0d 0h | 2025-01-28 01:54:55 |\n",
      "+---------------------+----------+---------------------+-------+---------------------+\n",
      "\n",
      "SUBNETS to be deleted:\n",
      "+-------------------------+----------+---------------------+-------+---------------------+-----------------------+\n",
      "| Name                    | Status   | Created             | Age   | Last Seen           | Details               |\n",
      "+=========================+==========+=====================+=======+=====================+=======================+\n",
      "| public_subnet_testing   | ACTIVE   | 2025-01-28 01:45:07 | 0d 0h | 2025-01-28 01:54:55 | CIDR: 192.168.10.0/24 |\n",
      "+-------------------------+----------+---------------------+-------+---------------------+-----------------------+\n",
      "| exp_subnet_net0_testing | ACTIVE   | 2025-01-28 01:45:10 | 0d 0h | 2025-01-28 01:54:55 | CIDR: 192.168.1.0/24  |\n",
      "+-------------------------+----------+---------------------+-------+---------------------+-----------------------+\n"
     ]
    }
   ],
   "source": [
    "display_resources(get_resources_to_delete())"
   ]
  },
  {
   "cell_type": "code",
   "execution_count": 35,
   "id": "8a3d6db6-7f16-4453-92dd-317bf41da538",
   "metadata": {},
   "outputs": [],
   "source": [
    "def release_floating_ips(server_data: Dict, dry_run: bool = True):\n",
    "        \"\"\"Release floating IPs associated with a server\"\"\"\n",
    "        if not server_data.get('addresses'):\n",
    "            return\n",
    "\n",
    "        for network_name, addresses in server_data['addresses'].items():\n",
    "            for addr in addresses:\n",
    "                if addr.get('OS-EXT-IPS:type') == 'floating':\n",
    "                    ip_address = addr.get('addr')\n",
    "                    if ip_address:\n",
    "                        if dry_run:\n",
    "                            logger.info(f\"Would release floating IP: {ip_address}\")\n",
    "                        else:\n",
    "                            try:\n",
    "                                floating_ips = list(os_conn.network.ips())\n",
    "                                for ip in floating_ips:\n",
    "                                    if ip.floating_ip_address == ip_address:\n",
    "                                        os_conn.network.delete_ip(ip.id)\n",
    "                                        logger.info(f\"Released floating IP: {ip_address}\")\n",
    "                                        break\n",
    "                            except Exception as e:\n",
    "                                logger.error(f\"Error releasing floating IP {ip_address}: {str(e)}\")"
   ]
  },
  {
   "cell_type": "code",
   "execution_count": 24,
   "id": "01c062d7-ae70-4a6c-aa49-6bc488c4c764",
   "metadata": {},
   "outputs": [],
   "source": [
    "def clean_router(router_data: Dict, dry_run: bool = True):\n",
    "        \"\"\"Clean router by removing external gateway and interfaces\"\"\"\n",
    "        try:\n",
    "            router_id = router_data['resource_id']\n",
    "            if dry_run:\n",
    "                if router_data.get('external_gateway_info'):\n",
    "                    logger.info(f\"Would remove external gateway from router: {router_id}\")\n",
    "                logger.info(f\"Would remove interfaces from router: {router_id}\")\n",
    "                return\n",
    "\n",
    "            # Get router ports\n",
    "            ports = os_conn.network.ports(device_id=router_id)\n",
    "            \n",
    "            # Remove external gateway if exists\n",
    "            if router_data.get('external_gateway_info'):\n",
    "                os_conn.network.update_router(router_id, external_gateway_info={})\n",
    "                logger.info(f\"Removed external gateway from router: {router_id}\")\n",
    "\n",
    "            # Remove router interfaces\n",
    "            for port in ports:\n",
    "                if port.device_owner == 'network:router_interface':\n",
    "                    os_conn.network.remove_interface_from_router(\n",
    "                        router_id,\n",
    "                        subnet_id=port.fixed_ips[0]['subnet_id']\n",
    "                    )\n",
    "            logger.info(f\"Removed interfaces from router: {router_id}\")\n",
    "\n",
    "        except Exception as e:\n",
    "            logger.error(f\"Error cleaning router {router_id}: {str(e)}\")\n",
    "            raise"
   ]
  },
  {
   "cell_type": "code",
   "execution_count": 59,
   "id": "7e15bd8b-bf38-4337-9dcc-87eb2d869cd2",
   "metadata": {},
   "outputs": [],
   "source": [
    "resources = get_resources_to_delete()"
   ]
  },
  {
   "cell_type": "code",
   "execution_count": 60,
   "id": "20dbf4cd-abd2-47c2-bbac-8cf1fa1be5c2",
   "metadata": {},
   "outputs": [
    {
     "name": "stdout",
     "output_type": "stream",
     "text": [
      "\n",
      "SERVERS to be deleted:\n",
      "+----------------+----------+---------------------+-------+---------------------+-------------------+\n",
      "| Name           | Status   | Created             | Age   | Last Seen           | Details           |\n",
      "+================+==========+=====================+=======+=====================+===================+\n",
      "| node-0_testing | ACTIVE   | 2025-01-28 01:45:13 | 0d 0h | 2025-01-28 01:54:55 | Flavor: m1.medium |\n",
      "+----------------+----------+---------------------+-------+---------------------+-------------------+\n",
      "\n",
      "NETWORKS to be deleted:\n",
      "+--------------------+----------+---------------------+-------+---------------------+\n",
      "| Name               | Status   | Created             | Age   | Last Seen           |\n",
      "+====================+==========+=====================+=======+=====================+\n",
      "| public_net_testing | ACTIVE   | 2025-01-28 01:45:07 | 0d 0h | 2025-01-28 01:54:55 |\n",
      "+--------------------+----------+---------------------+-------+---------------------+\n",
      "| exp_net0_testing   | ACTIVE   | 2025-01-28 01:45:08 | 0d 0h | 2025-01-28 01:54:55 |\n",
      "+--------------------+----------+---------------------+-------+---------------------+\n",
      "\n",
      "ROUTERS to be deleted:\n",
      "+---------------------+----------+---------------------+-------+---------------------+\n",
      "| Name                | Status   | Created             | Age   | Last Seen           |\n",
      "+=====================+==========+=====================+=======+=====================+\n",
      "| inet_router_testing | ACTIVE   | 2025-01-28 01:45:36 | 0d 0h | 2025-01-28 01:54:55 |\n",
      "+---------------------+----------+---------------------+-------+---------------------+\n",
      "\n",
      "SUBNETS to be deleted:\n",
      "+-------------------------+----------+---------------------+-------+---------------------+-----------------------+\n",
      "| Name                    | Status   | Created             | Age   | Last Seen           | Details               |\n",
      "+=========================+==========+=====================+=======+=====================+=======================+\n",
      "| public_subnet_testing   | ACTIVE   | 2025-01-28 01:45:07 | 0d 0h | 2025-01-28 01:54:55 | CIDR: 192.168.10.0/24 |\n",
      "+-------------------------+----------+---------------------+-------+---------------------+-----------------------+\n",
      "| exp_subnet_net0_testing | ACTIVE   | 2025-01-28 01:45:10 | 0d 0h | 2025-01-28 01:54:55 | CIDR: 192.168.1.0/24  |\n",
      "+-------------------------+----------+---------------------+-------+---------------------+-----------------------+\n",
      "None\n"
     ]
    }
   ],
   "source": [
    "print(display_resources(resources))"
   ]
  },
  {
   "cell_type": "code",
   "execution_count": 62,
   "id": "ea9fc840-ac07-4b26-bc08-802bf5e38202",
   "metadata": {},
   "outputs": [
    {
     "name": "stderr",
     "output_type": "stream",
     "text": [
      "2025-01-28 02:00:27,406 - __main__ - INFO - Deleting server: node-0_testing (ACTIVE)\n",
      "2025-01-28 02:00:27,693 - __main__ - INFO - Deleted server: d3ba02e5-f582-4031-b769-fd19c3701d63\n"
     ]
    }
   ],
   "source": [
    "for server in resources['servers']:\n",
    "    try:\n",
    "        server_id = server['resource_id']\n",
    "        logger.info(f\"Deleting server: {server['resource_name']} ({server['status']})\")\n",
    "                    \n",
    "        # Release floating IPs first\n",
    "        #release_floating_ips(server, dry_run=False)\n",
    "                    \n",
    "        # Delete the server\n",
    "        os_conn.compute.delete_server(server_id)\n",
    "        logger.info(f\"Deleted server: {server_id}\")\n",
    "    except Exception as e:\n",
    "        logger.error(f\"Error deleting server {server_id}: {str(e)}\")\n",
    "        continue"
   ]
  },
  {
   "cell_type": "code",
   "execution_count": 63,
   "id": "689c0b2b-849e-47d9-8f86-c21ae5c53df2",
   "metadata": {},
   "outputs": [
    {
     "name": "stderr",
     "output_type": "stream",
     "text": [
      "2025-01-28 02:00:34,124 - __main__ - INFO - Processing router: inet_router_testing (ACTIVE)\n",
      "2025-01-28 02:00:36,635 - __main__ - INFO - Removed external gateway from router: 382e2bbd-afad-4ad7-b6db-e21cc0b4ac98\n",
      "2025-01-28 02:00:39,585 - __main__ - INFO - Removed interfaces from router: 382e2bbd-afad-4ad7-b6db-e21cc0b4ac98\n",
      "2025-01-28 02:00:40,685 - __main__ - INFO - Deleted router: 382e2bbd-afad-4ad7-b6db-e21cc0b4ac98\n"
     ]
    }
   ],
   "source": [
    "for router in resources['routers']:\n",
    "    try:\n",
    "        router_id = router['resource_id']\n",
    "        logger.info(f\"Processing router: {router['resource_name']} ({router['status']})\")\n",
    "                    \n",
    "        # Clean router first\n",
    "        clean_router(router, dry_run=False)\n",
    "                    \n",
    "        # Delete the router\n",
    "        os_conn.network.delete_router(router_id)\n",
    "        logger.info(f\"Deleted router: {router_id}\")\n",
    "    except Exception as e:\n",
    "        logger.error(f\"Error deleting router {router_id}: {str(e)}\")\n",
    "        continue"
   ]
  },
  {
   "cell_type": "code",
   "execution_count": 64,
   "id": "d4074e58-ded1-4053-b65c-b00675a2108a",
   "metadata": {},
   "outputs": [
    {
     "name": "stderr",
     "output_type": "stream",
     "text": [
      "2025-01-28 02:00:43,603 - __main__ - INFO - Deleting subnet: public_subnet_testing (192.168.10.0/24)\n",
      "2025-01-28 02:00:45,069 - __main__ - INFO - Deleted subnet: 414c2015-3412-4451-af14-ca67cae83512\n",
      "2025-01-28 02:00:45,071 - __main__ - INFO - Deleting subnet: exp_subnet_net0_testing (192.168.1.0/24)\n",
      "2025-01-28 02:00:47,076 - __main__ - INFO - Deleted subnet: f3a3f5f3-20c7-462f-9615-7db77757e1f6\n"
     ]
    }
   ],
   "source": [
    "for subnet in resources['subnets']:\n",
    "    try:\n",
    "        subnet_id = subnet['resource_id']\n",
    "        logger.info(f\"Deleting subnet: {subnet['resource_name']} ({subnet['cidr']})\")\n",
    "        os_conn.network.delete_subnet(subnet_id)\n",
    "        logger.info(f\"Deleted subnet: {subnet_id}\")\n",
    "    except Exception as e:\n",
    "        logger.error(f\"Error deleting subnet {subnet_id}: {str(e)}\")\n",
    "        continue"
   ]
  },
  {
   "cell_type": "code",
   "execution_count": 65,
   "id": "f5e27376-3323-4eb9-8a34-df3b1bb92793",
   "metadata": {},
   "outputs": [
    {
     "name": "stderr",
     "output_type": "stream",
     "text": [
      "2025-01-28 02:00:49,896 - __main__ - INFO - Deleting network: public_net_testing (ACTIVE)\n",
      "2025-01-28 02:00:50,547 - __main__ - INFO - Deleted network: c0d7ee16-5054-456f-9353-09648250f997\n",
      "2025-01-28 02:00:50,550 - __main__ - INFO - Deleting network: exp_net0_testing (ACTIVE)\n",
      "2025-01-28 02:00:51,040 - __main__ - INFO - Deleted network: 2e0155fd-421d-45b5-ae79-0b367455a266\n"
     ]
    }
   ],
   "source": [
    "for network in resources['networks']:\n",
    "    try:\n",
    "        network_id = network['resource_id']\n",
    "        logger.info(f\"Deleting network: {network['resource_name']} ({network['status']})\")\n",
    "        os_conn.network.delete_network(network_id)\n",
    "        logger.info(f\"Deleted network: {network_id}\")\n",
    "    except Exception as e:\n",
    "        logger.error(f\"Error deleting network {network_id}: {str(e)}\")\n",
    "        continue"
   ]
  },
  {
   "cell_type": "code",
   "execution_count": null,
   "id": "e8cf1b0f-35f0-47a9-8054-4369d25f3de2",
   "metadata": {},
   "outputs": [],
   "source": []
  }
 ],
 "metadata": {
  "kernelspec": {
   "display_name": "Python 3 (ipykernel)",
   "language": "python",
   "name": "python3"
  },
  "language_info": {
   "codemirror_mode": {
    "name": "ipython",
    "version": 3
   },
   "file_extension": ".py",
   "mimetype": "text/x-python",
   "name": "python",
   "nbconvert_exporter": "python",
   "pygments_lexer": "ipython3",
   "version": "3.10.12"
  }
 },
 "nbformat": 4,
 "nbformat_minor": 5
}
