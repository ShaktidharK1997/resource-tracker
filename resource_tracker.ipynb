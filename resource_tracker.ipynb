{
 "cells": [
  {
   "cell_type": "code",
   "execution_count": 5,
   "id": "38398fc3-7b46-4644-9ae0-f525a6a718fe",
   "metadata": {},
   "outputs": [
    {
     "name": "stdout",
     "output_type": "stream",
     "text": [
      "1\n"
     ]
    }
   ],
   "source": [
    "print(1)"
   ]
  },
  {
   "cell_type": "code",
   "execution_count": 6,
   "id": "8ef0d78b-1747-4222-a1f8-15cceb540a93",
   "metadata": {},
   "outputs": [],
   "source": [
    "import psycopg2\n",
    "from psycopg2.extras import RealDictCursor\n",
    "import pandas as pd\n",
    "from datetime import datetime\n",
    "import json"
   ]
  },
  {
   "cell_type": "code",
   "execution_count": 7,
   "id": "9be74f32-cfdf-43d3-a673-5607e7caa18d",
   "metadata": {},
   "outputs": [],
   "source": [
    "DB_CONFIG = {\n",
    "    'dbname': 'resource_tracker',  # replace with your db name\n",
    "    'user': 'admin',            # replace with your username\n",
    "    'password': 'Shakti!1997',   # replace with your password\n",
    "    'host': 'localhost',\n",
    "    'port': '5432'\n",
    "}"
   ]
  },
  {
   "cell_type": "code",
   "execution_count": 8,
   "id": "7794eaaa-512c-49aa-b579-7a3608ff0b17",
   "metadata": {},
   "outputs": [],
   "source": [
    "def get_db_connection():\n",
    "    \"\"\"Create a database connection\"\"\"\n",
    "    return psycopg2.connect(**DB_CONFIG)"
   ]
  },
  {
   "cell_type": "code",
   "execution_count": 9,
   "id": "7fa3c298-5e1a-452f-9321-466662f65b57",
   "metadata": {},
   "outputs": [],
   "source": [
    "conn = get_db_connection()"
   ]
  },
  {
   "cell_type": "code",
   "execution_count": 10,
   "id": "5cdd230f-ff56-4bcc-86a5-8d0fdbb482cd",
   "metadata": {},
   "outputs": [],
   "source": [
    "cur = conn.cursor()"
   ]
  },
  {
   "cell_type": "code",
   "execution_count": 11,
   "id": "5e0b4671-6da4-4ec8-b213-e97d233fe0e0",
   "metadata": {},
   "outputs": [],
   "source": [
    "cur.execute(\"SELECT * from servers;\")"
   ]
  },
  {
   "cell_type": "code",
   "execution_count": 15,
   "id": "6ff8e183-1ce8-4c93-987d-790531d79aef",
   "metadata": {},
   "outputs": [
    {
     "name": "stdout",
     "output_type": "stream",
     "text": [
      "Defaulting to user installation because normal site-packages is not writeable\n",
      "Collecting openstacksdk\n",
      "  Downloading openstacksdk-4.2.0-py3-none-any.whl (1.7 MB)\n",
      "\u001b[2K     \u001b[38;2;114;156;31m━━━━━━━━━━━━━━━━━━━━━━━━━━━━━━━━━━━━━━━━\u001b[0m \u001b[32m1.7/1.7 MB\u001b[0m \u001b[31m10.6 MB/s\u001b[0m eta \u001b[36m0:00:00\u001b[0mm eta \u001b[36m0:00:01\u001b[0m0:01\u001b[0m01\u001b[0m\n",
      "Collecting python-chi\n",
      "  Downloading python_chi-1.0.6-py3-none-any.whl (58 kB)\n",
      "\u001b[2K     \u001b[38;2;114;156;31m━━━━━━━━━━━━━━━━━━━━━━━━━━━━━━━━━━━━━━━━\u001b[0m \u001b[32m58.2/58.2 KB\u001b[0m \u001b[31m5.3 MB/s\u001b[0m eta \u001b[36m0:00:00\u001b[0m\n",
      "Collecting requestsexceptions>=1.2.0\n",
      "  Downloading requestsexceptions-1.4.0-py2.py3-none-any.whl (3.8 kB)\n",
      "Collecting pbr!=2.1.0,>=2.0.0\n",
      "  Downloading pbr-6.1.0-py2.py3-none-any.whl (108 kB)\n",
      "\u001b[2K     \u001b[38;2;114;156;31m━━━━━━━━━━━━━━━━━━━━━━━━━━━━━━━━━━━━━━\u001b[0m \u001b[32m108.5/108.5 KB\u001b[0m \u001b[31m17.3 MB/s\u001b[0m eta \u001b[36m0:00:00\u001b[0m\n",
      "Collecting jmespath>=0.9.0\n",
      "  Downloading jmespath-1.0.1-py3-none-any.whl (20 kB)\n",
      "Collecting platformdirs>=3\n",
      "  Downloading platformdirs-4.3.6-py3-none-any.whl (18 kB)\n",
      "Requirement already satisfied: decorator>=4.4.1 in /home/cc/.local/lib/python3.10/site-packages (from openstacksdk) (5.1.1)\n",
      "Requirement already satisfied: jsonpatch!=1.20,>=1.16 in /usr/lib/python3/dist-packages (from openstacksdk) (1.32)\n",
      "Collecting iso8601>=0.1.11\n",
      "  Downloading iso8601-2.1.0-py3-none-any.whl (7.5 kB)\n",
      "Requirement already satisfied: psutil>=3.2.2 in /home/cc/.local/lib/python3.10/site-packages (from openstacksdk) (6.1.1)\n",
      "Requirement already satisfied: PyYAML>=3.13 in /usr/lib/python3/dist-packages (from openstacksdk) (5.4.1)\n",
      "Collecting dogpile.cache>=0.6.5\n",
      "  Downloading dogpile.cache-1.3.3-py3-none-any.whl (58 kB)\n",
      "\u001b[2K     \u001b[38;2;114;156;31m━━━━━━━━━━━━━━━━━━━━━━━━━━━━━━━━━━━━━━━━\u001b[0m \u001b[32m58.7/58.7 KB\u001b[0m \u001b[31m7.3 MB/s\u001b[0m eta \u001b[36m0:00:00\u001b[0m\n",
      "Collecting keystoneauth1>=3.18.0\n",
      "  Downloading keystoneauth1-5.9.1-py3-none-any.whl (341 kB)\n",
      "\u001b[2K     \u001b[38;2;114;156;31m━━━━━━━━━━━━━━━━━━━━━━━━━━━━━━━━━━━━━━\u001b[0m \u001b[32m341.6/341.6 KB\u001b[0m \u001b[31m13.1 MB/s\u001b[0m eta \u001b[36m0:00:00\u001b[0m\n",
      "Collecting os-service-types>=1.7.0\n",
      "  Downloading os_service_types-1.7.0-py2.py3-none-any.whl (24 kB)\n",
      "Requirement already satisfied: cryptography>=2.7 in /usr/lib/python3/dist-packages (from openstacksdk) (3.4.8)\n",
      "Collecting paramiko\n",
      "  Downloading paramiko-3.5.0-py3-none-any.whl (227 kB)\n",
      "\u001b[2K     \u001b[38;2;114;156;31m━━━━━━━━━━━━━━━━━━━━━━━━━━━━━━━━━━━━━━\u001b[0m \u001b[32m227.1/227.1 KB\u001b[0m \u001b[31m17.0 MB/s\u001b[0m eta \u001b[36m0:00:00\u001b[0m\n",
      "Collecting python-swiftclient\n",
      "  Downloading python_swiftclient-4.6.0-py3-none-any.whl (88 kB)\n",
      "\u001b[2K     \u001b[38;2;114;156;31m━━━━━━━━━━━━━━━━━━━━━━━━━━━━━━━━━━━━━━━━\u001b[0m \u001b[32m88.8/88.8 KB\u001b[0m \u001b[31m10.3 MB/s\u001b[0m eta \u001b[36m0:00:00\u001b[0m\n",
      "Collecting python-cinderclient\n",
      "  Downloading python_cinderclient-9.6.0-py3-none-any.whl (256 kB)\n",
      "\u001b[2K     \u001b[38;2;114;156;31m━━━━━━━━━━━━━━━━━━━━━━━━━━━━━━━━━━━━━━\u001b[0m \u001b[32m256.2/256.2 KB\u001b[0m \u001b[31m18.4 MB/s\u001b[0m eta \u001b[36m0:00:00\u001b[0m\n",
      "Collecting python-ironicclient\n",
      "  Downloading python_ironicclient-5.10.0-py3-none-any.whl (240 kB)\n",
      "\u001b[2K     \u001b[38;2;114;156;31m━━━━━━━━━━━━━━━━━━━━━━━━━━━━━━━━━━━━━━\u001b[0m \u001b[32m241.0/241.0 KB\u001b[0m \u001b[31m17.3 MB/s\u001b[0m eta \u001b[36m0:00:00\u001b[0m\n",
      "Collecting python-zunclient\n",
      "  Downloading python_zunclient-5.2.0-py3-none-any.whl (155 kB)\n",
      "\u001b[2K     \u001b[38;2;114;156;31m━━━━━━━━━━━━━━━━━━━━━━━━━━━━━━━━━━━━━━\u001b[0m \u001b[32m155.0/155.0 KB\u001b[0m \u001b[31m13.6 MB/s\u001b[0m eta \u001b[36m0:00:00\u001b[0m\n",
      "Collecting python-neutronclient\n",
      "  Downloading python_neutronclient-11.4.0-py3-none-any.whl (295 kB)\n",
      "\u001b[2K     \u001b[38;2;114;156;31m━━━━━━━━━━━━━━━━━━━━━━━━━━━━━━━━━━━━━━\u001b[0m \u001b[32m295.7/295.7 KB\u001b[0m \u001b[31m21.6 MB/s\u001b[0m eta \u001b[36m0:00:00\u001b[0m\n",
      "Collecting matplotlib\n",
      "  Downloading matplotlib-3.10.0-cp310-cp310-manylinux_2_17_x86_64.manylinux2014_x86_64.whl (8.6 MB)\n",
      "\u001b[2K     \u001b[38;2;114;156;31m━━━━━━━━━━━━━━━━━━━━━━━━━━━━━━━━━━━━━━━━\u001b[0m \u001b[32m8.6/8.6 MB\u001b[0m \u001b[31m37.2 MB/s\u001b[0m eta \u001b[36m0:00:00\u001b[0mm eta \u001b[36m0:00:01\u001b[0m0:01\u001b[0m:01\u001b[0m\n",
      "Collecting fabric\n",
      "  Downloading fabric-3.2.2-py3-none-any.whl (59 kB)\n",
      "\u001b[2K     \u001b[38;2;114;156;31m━━━━━━━━━━━━━━━━━━━━━━━━━━━━━━━━━━━━━━━━\u001b[0m \u001b[32m59.4/59.4 KB\u001b[0m \u001b[31m8.1 MB/s\u001b[0m eta \u001b[36m0:00:00\u001b[0m\n",
      "\u001b[?25hRequirement already satisfied: ipython in /home/cc/.local/lib/python3.10/site-packages (from python-chi) (8.31.0)\n",
      "Collecting networkx\n",
      "  Downloading networkx-3.4.2-py3-none-any.whl (1.7 MB)\n",
      "\u001b[2K     \u001b[38;2;114;156;31m━━━━━━━━━━━━━━━━━━━━━━━━━━━━━━━━━━━━━━━━\u001b[0m \u001b[32m1.7/1.7 MB\u001b[0m \u001b[31m48.3 MB/s\u001b[0m eta \u001b[36m0:00:00\u001b[0m0m eta \u001b[36m0:00:01\u001b[0m\n",
      "Collecting python-manilaclient\n",
      "  Downloading python_manilaclient-5.2.0-py3-none-any.whl (517 kB)\n",
      "\u001b[2K     \u001b[38;2;114;156;31m━━━━━━━━━━━━━━━━━━━━━━━━━━━━━━━━━━━━━━\u001b[0m \u001b[32m517.9/517.9 KB\u001b[0m \u001b[31m43.9 MB/s\u001b[0m eta \u001b[36m0:00:00\u001b[0m\n",
      "\u001b[?25hRequirement already satisfied: ipywidgets in /home/cc/.local/lib/python3.10/site-packages (from python-chi) (8.1.5)\n",
      "Collecting python-novaclient\n",
      "  Downloading python_novaclient-18.8.0-py3-none-any.whl (336 kB)\n",
      "\u001b[2K     \u001b[38;2;114;156;31m━━━━━━━━━━━━━━━━━━━━━━━━━━━━━━━━━━━━━━\u001b[0m \u001b[32m336.3/336.3 KB\u001b[0m \u001b[31m26.6 MB/s\u001b[0m eta \u001b[36m0:00:00\u001b[0m\n",
      "Collecting python-glanceclient\n",
      "  Downloading python_glanceclient-4.7.0-py3-none-any.whl (206 kB)\n",
      "\u001b[2K     \u001b[38;2;114;156;31m━━━━━━━━━━━━━━━━━━━━━━━━━━━━━━━━━━━━━━\u001b[0m \u001b[32m207.0/207.0 KB\u001b[0m \u001b[31m24.9 MB/s\u001b[0m eta \u001b[36m0:00:00\u001b[0m\n",
      "\u001b[?25hRequirement already satisfied: typing-extensions>=4.0.1 in /home/cc/.local/lib/python3.10/site-packages (from dogpile.cache>=0.6.5->openstacksdk) (4.12.2)\n",
      "Collecting stevedore>=3.0.0\n",
      "  Downloading stevedore-5.4.0-py3-none-any.whl (49 kB)\n",
      "\u001b[2K     \u001b[38;2;114;156;31m━━━━━━━━━━━━━━━━━━━━━━━━━━━━━━━━━━━━━━━━\u001b[0m \u001b[32m49.5/49.5 KB\u001b[0m \u001b[31m6.6 MB/s\u001b[0m eta \u001b[36m0:00:00\u001b[0m\n",
      "Requirement already satisfied: requests>=2.14.2 in /home/cc/.local/lib/python3.10/site-packages (from keystoneauth1>=3.18.0->openstacksdk) (2.32.3)\n",
      "Collecting deprecated>=1.2\n",
      "  Downloading Deprecated-1.2.15-py2.py3-none-any.whl (9.9 kB)\n",
      "Collecting invoke>=2.0\n",
      "  Downloading invoke-2.2.0-py3-none-any.whl (160 kB)\n",
      "\u001b[2K     \u001b[38;2;114;156;31m━━━━━━━━━━━━━━━━━━━━━━━━━━━━━━━━━━━━━━\u001b[0m \u001b[32m160.3/160.3 KB\u001b[0m \u001b[31m21.1 MB/s\u001b[0m eta \u001b[36m0:00:00\u001b[0m\n",
      "Collecting pynacl>=1.5\n",
      "  Downloading PyNaCl-1.5.0-cp36-abi3-manylinux_2_17_x86_64.manylinux2014_x86_64.manylinux_2_24_x86_64.whl (856 kB)\n",
      "\u001b[2K     \u001b[38;2;114;156;31m━━━━━━━━━━━━━━━━━━━━━━━━━━━━━━━━━━━━━━\u001b[0m \u001b[32m856.7/856.7 KB\u001b[0m \u001b[31m52.8 MB/s\u001b[0m eta \u001b[36m0:00:00\u001b[0m\n",
      "Requirement already satisfied: bcrypt>=3.2 in /usr/lib/python3/dist-packages (from paramiko->python-chi) (3.2.0)\n",
      "Requirement already satisfied: prompt_toolkit<3.1.0,>=3.0.41 in /home/cc/.local/lib/python3.10/site-packages (from ipython->python-chi) (3.0.50)\n",
      "Requirement already satisfied: pygments>=2.4.0 in /home/cc/.local/lib/python3.10/site-packages (from ipython->python-chi) (2.19.1)\n",
      "Requirement already satisfied: traitlets>=5.13.0 in /home/cc/.local/lib/python3.10/site-packages (from ipython->python-chi) (5.14.3)\n",
      "Requirement already satisfied: pexpect>4.3 in /usr/lib/python3/dist-packages (from ipython->python-chi) (4.8.0)\n",
      "Requirement already satisfied: exceptiongroup in /home/cc/.local/lib/python3.10/site-packages (from ipython->python-chi) (1.2.2)\n",
      "Requirement already satisfied: matplotlib-inline in /home/cc/.local/lib/python3.10/site-packages (from ipython->python-chi) (0.1.7)\n",
      "Requirement already satisfied: stack_data in /home/cc/.local/lib/python3.10/site-packages (from ipython->python-chi) (0.6.3)\n",
      "Requirement already satisfied: jedi>=0.16 in /home/cc/.local/lib/python3.10/site-packages (from ipython->python-chi) (0.19.2)\n",
      "Requirement already satisfied: comm>=0.1.3 in /home/cc/.local/lib/python3.10/site-packages (from ipywidgets->python-chi) (0.2.2)\n",
      "Requirement already satisfied: jupyterlab-widgets~=3.0.12 in /home/cc/.local/lib/python3.10/site-packages (from ipywidgets->python-chi) (3.0.13)\n",
      "Requirement already satisfied: widgetsnbextension~=4.0.12 in /home/cc/.local/lib/python3.10/site-packages (from ipywidgets->python-chi) (4.0.13)\n",
      "Collecting fonttools>=4.22.0\n",
      "  Downloading fonttools-4.55.5-cp310-cp310-manylinux_2_17_x86_64.manylinux2014_x86_64.whl (4.6 MB)\n",
      "\u001b[2K     \u001b[38;2;114;156;31m━━━━━━━━━━━━━━━━━━━━━━━━━━━━━━━━━━━━━━━━\u001b[0m \u001b[32m4.6/4.6 MB\u001b[0m \u001b[31m55.1 MB/s\u001b[0m eta \u001b[36m0:00:00\u001b[0mm eta \u001b[36m0:00:01\u001b[0m00:01\u001b[0m\n",
      "Requirement already satisfied: pyparsing>=2.3.1 in /usr/lib/python3/dist-packages (from matplotlib->python-chi) (2.4.7)\n",
      "Requirement already satisfied: numpy>=1.23 in /home/cc/.local/lib/python3.10/site-packages (from matplotlib->python-chi) (2.2.2)\n",
      "Collecting contourpy>=1.0.1\n",
      "  Downloading contourpy-1.3.1-cp310-cp310-manylinux_2_17_x86_64.manylinux2014_x86_64.whl (324 kB)\n",
      "\u001b[2K     \u001b[38;2;114;156;31m━━━━━━━━━━━━━━━━━━━━━━━━━━━━━━━━━━━━━━\u001b[0m \u001b[32m325.0/325.0 KB\u001b[0m \u001b[31m27.8 MB/s\u001b[0m eta \u001b[36m0:00:00\u001b[0m\n",
      "Collecting kiwisolver>=1.3.1\n",
      "  Downloading kiwisolver-1.4.8-cp310-cp310-manylinux_2_12_x86_64.manylinux2010_x86_64.whl (1.6 MB)\n",
      "\u001b[2K     \u001b[38;2;114;156;31m━━━━━━━━━━━━━━━━━━━━━━━━━━━━━━━━━━━━━━━━\u001b[0m \u001b[32m1.6/1.6 MB\u001b[0m \u001b[31m51.1 MB/s\u001b[0m eta \u001b[36m0:00:00\u001b[0m\n",
      "Collecting pillow>=8\n",
      "  Downloading pillow-11.1.0-cp310-cp310-manylinux_2_28_x86_64.whl (4.5 MB)\n",
      "\u001b[2K     \u001b[38;2;114;156;31m━━━━━━━━━━━━━━━━━━━━━━━━━━━━━━━━━━━━━━━━\u001b[0m \u001b[32m4.5/4.5 MB\u001b[0m \u001b[31m52.8 MB/s\u001b[0m eta \u001b[36m0:00:00\u001b[0mm eta \u001b[36m0:00:01\u001b[0m[36m0:00:01\u001b[0m\n",
      "\u001b[?25hRequirement already satisfied: packaging>=20.0 in /home/cc/.local/lib/python3.10/site-packages (from matplotlib->python-chi) (24.2)\n",
      "Requirement already satisfied: python-dateutil>=2.7 in /home/cc/.local/lib/python3.10/site-packages (from matplotlib->python-chi) (2.9.0.post0)\n",
      "Collecting cycler>=0.10\n",
      "  Downloading cycler-0.12.1-py3-none-any.whl (8.3 kB)\n",
      "Collecting oslo.utils>=4.8.0\n",
      "  Downloading oslo.utils-8.0.0-py3-none-any.whl (132 kB)\n",
      "\u001b[2K     \u001b[38;2;114;156;31m━━━━━━━━━━━━━━━━━━━━━━━━━━━━━━━━━━━━━━\u001b[0m \u001b[32m132.9/132.9 KB\u001b[0m \u001b[31m16.4 MB/s\u001b[0m eta \u001b[36m0:00:00\u001b[0m\n",
      "Collecting oslo.i18n>=5.0.1\n",
      "  Downloading oslo.i18n-6.5.0-py3-none-any.whl (46 kB)\n",
      "\u001b[2K     \u001b[38;2;114;156;31m━━━━━━━━━━━━━━━━━━━━━━━━━━━━━━━━━━━━━━━━\u001b[0m \u001b[32m46.8/46.8 KB\u001b[0m \u001b[31m6.6 MB/s\u001b[0m eta \u001b[36m0:00:00\u001b[0m\n",
      "Collecting PrettyTable>=0.7.2\n",
      "  Downloading prettytable-3.12.0-py3-none-any.whl (31 kB)\n",
      "Collecting warlock>=1.2.0\n",
      "  Downloading warlock-2.0.1-py3-none-any.whl (9.8 kB)\n",
      "Collecting wrapt>=1.7.0\n",
      "  Downloading wrapt-1.17.2-cp310-cp310-manylinux_2_5_x86_64.manylinux1_x86_64.manylinux_2_17_x86_64.manylinux2014_x86_64.whl (82 kB)\n",
      "\u001b[2K     \u001b[38;2;114;156;31m━━━━━━━━━━━━━━━━━━━━━━━━━━━━━━━━━━━━━━━━\u001b[0m \u001b[32m82.8/82.8 KB\u001b[0m \u001b[31m9.1 MB/s\u001b[0m eta \u001b[36m0:00:00\u001b[0m\n",
      "\u001b[?25hRequirement already satisfied: pyOpenSSL>=17.1.0 in /usr/lib/python3/dist-packages (from python-glanceclient->python-chi) (21.0.0)\n",
      "Collecting cliff>=2.8.0\n",
      "  Downloading cliff-4.8.0-py3-none-any.whl (80 kB)\n",
      "\u001b[2K     \u001b[38;2;114;156;31m━━━━━━━━━━━━━━━━━━━━━━━━━━━━━━━━━━━━━━━━\u001b[0m \u001b[32m80.9/80.9 KB\u001b[0m \u001b[31m10.1 MB/s\u001b[0m eta \u001b[36m0:00:00\u001b[0m\n",
      "Requirement already satisfied: jsonschema>=3.2.0 in /home/cc/.local/lib/python3.10/site-packages (from python-ironicclient->python-chi) (4.23.0)\n",
      "Collecting osc-lib>=2.0.0\n",
      "  Downloading osc_lib-3.2.0-py3-none-any.whl (89 kB)\n",
      "\u001b[2K     \u001b[38;2;114;156;31m━━━━━━━━━━━━━━━━━━━━━━━━━━━━━━━━━━━━━━━━\u001b[0m \u001b[32m89.3/89.3 KB\u001b[0m \u001b[31m10.4 MB/s\u001b[0m eta \u001b[36m0:00:00\u001b[0m\n",
      "Collecting python-keystoneclient>=3.8.0\n",
      "  Downloading python_keystoneclient-5.5.0-py3-none-any.whl (397 kB)\n",
      "\u001b[2K     \u001b[38;2;114;156;31m━━━━━━━━━━━━━━━━━━━━━━━━━━━━━━━━━━━━━━\u001b[0m \u001b[32m397.2/397.2 KB\u001b[0m \u001b[31m25.0 MB/s\u001b[0m eta \u001b[36m0:00:00\u001b[0m\n",
      "Collecting debtcollector>=1.2.0\n",
      "  Downloading debtcollector-3.0.0-py3-none-any.whl (23 kB)\n",
      "Requirement already satisfied: Babel>=2.5.0 in /home/cc/.local/lib/python3.10/site-packages (from python-manilaclient->python-chi) (2.16.0)\n",
      "Collecting oslo.config>=5.2.0\n",
      "  Downloading oslo.config-9.7.0-py3-none-any.whl (131 kB)\n",
      "\u001b[2K     \u001b[38;2;114;156;31m━━━━━━━━━━━━━━━━━━━━━━━━━━━━━━━━━━━━━━\u001b[0m \u001b[32m131.8/131.8 KB\u001b[0m \u001b[31m17.9 MB/s\u001b[0m eta \u001b[36m0:00:00\u001b[0m\n",
      "Collecting oslo.log>=3.36.0\n",
      "  Downloading oslo.log-7.0.0-py3-none-any.whl (73 kB)\n",
      "\u001b[2K     \u001b[38;2;114;156;31m━━━━━━━━━━━━━━━━━━━━━━━━━━━━━━━━━━━━━━━━\u001b[0m \u001b[32m73.9/73.9 KB\u001b[0m \u001b[31m12.0 MB/s\u001b[0m eta \u001b[36m0:00:00\u001b[0m\n",
      "Collecting oslo.serialization>=2.20.0\n",
      "  Downloading oslo.serialization-5.6.0-py3-none-any.whl (26 kB)\n",
      "Collecting os-client-config>=1.28.0\n",
      "  Downloading os_client_config-2.1.0-py3-none-any.whl (31 kB)\n",
      "Collecting netaddr>=0.7.18\n",
      "  Downloading netaddr-1.3.0-py3-none-any.whl (2.3 MB)\n",
      "\u001b[2K     \u001b[38;2;114;156;31m━━━━━━━━━━━━━━━━━━━━━━━━━━━━━━━━━━━━━━━━\u001b[0m \u001b[32m2.3/2.3 MB\u001b[0m \u001b[31m23.8 MB/s\u001b[0m eta \u001b[36m0:00:00\u001b[0mm eta \u001b[36m0:00:01\u001b[0m00:01\u001b[0m\n",
      "Requirement already satisfied: websocket-client>=0.44.0 in /home/cc/.local/lib/python3.10/site-packages (from python-zunclient->python-chi) (1.8.0)\n",
      "Requirement already satisfied: docker>=2.4.2 in /usr/lib/python3/dist-packages (from python-zunclient->python-chi) (5.0.3)\n",
      "Collecting python-openstackclient>=3.12.0\n",
      "  Downloading python_openstackclient-7.2.1-py3-none-any.whl (1.1 MB)\n",
      "\u001b[2K     \u001b[38;2;114;156;31m━━━━━━━━━━━━━━━━━━━━━━━━━━━━━━━━━━━━━━━━\u001b[0m \u001b[32m1.1/1.1 MB\u001b[0m \u001b[31m48.7 MB/s\u001b[0m eta \u001b[36m0:00:00\u001b[0m\n",
      "Collecting cmd2>=1.0.0\n",
      "  Downloading cmd2-2.5.9-py3-none-any.whl (152 kB)\n",
      "\u001b[2K     \u001b[38;2;114;156;31m━━━━━━━━━━━━━━━━━━━━━━━━━━━━━━━━━━━━━━\u001b[0m \u001b[32m152.7/152.7 KB\u001b[0m \u001b[31m19.6 MB/s\u001b[0m eta \u001b[36m0:00:00\u001b[0m\n",
      "Collecting autopage>=0.4.0\n",
      "  Downloading autopage-0.5.2-py3-none-any.whl (30 kB)\n",
      "Requirement already satisfied: parso<0.9.0,>=0.8.4 in /home/cc/.local/lib/python3.10/site-packages (from jedi>=0.16->ipython->python-chi) (0.8.4)\n",
      "Requirement already satisfied: rpds-py>=0.7.1 in /home/cc/.local/lib/python3.10/site-packages (from jsonschema>=3.2.0->python-ironicclient->python-chi) (0.22.3)\n",
      "Requirement already satisfied: attrs>=22.2.0 in /home/cc/.local/lib/python3.10/site-packages (from jsonschema>=3.2.0->python-ironicclient->python-chi) (24.3.0)\n",
      "Requirement already satisfied: jsonschema-specifications>=2023.03.6 in /home/cc/.local/lib/python3.10/site-packages (from jsonschema>=3.2.0->python-ironicclient->python-chi) (2024.10.1)\n",
      "Requirement already satisfied: referencing>=0.28.4 in /home/cc/.local/lib/python3.10/site-packages (from jsonschema>=3.2.0->python-ironicclient->python-chi) (0.36.1)\n",
      "Collecting rfc3986>=1.2.0\n",
      "  Downloading rfc3986-2.0.0-py2.py3-none-any.whl (31 kB)\n",
      "Collecting oslo.context>=2.21.0\n",
      "  Downloading oslo.context-5.7.0-py3-none-any.whl (20 kB)\n",
      "Requirement already satisfied: tzdata>=2022.4 in /home/cc/.local/lib/python3.10/site-packages (from oslo.serialization>=2.20.0->python-manilaclient->python-chi) (2025.1)\n",
      "Collecting msgpack>=0.5.2\n",
      "  Downloading msgpack-1.1.0-cp310-cp310-manylinux_2_17_x86_64.manylinux2014_x86_64.whl (378 kB)\n",
      "\u001b[2K     \u001b[38;2;114;156;31m━━━━━━━━━━━━━━━━━━━━━━━━━━━━━━━━━━━━━━\u001b[0m \u001b[32m378.0/378.0 KB\u001b[0m \u001b[31m34.0 MB/s\u001b[0m eta \u001b[36m0:00:00\u001b[0m\n",
      "Requirement already satisfied: wcwidth in /home/cc/.local/lib/python3.10/site-packages (from PrettyTable>=0.7.2->python-cinderclient->python-chi) (0.2.13)\n",
      "Requirement already satisfied: cffi>=1.4.1 in /home/cc/.local/lib/python3.10/site-packages (from pynacl>=1.5->paramiko->python-chi) (1.17.1)\n",
      "Requirement already satisfied: six>=1.5 in /usr/lib/python3/dist-packages (from python-dateutil>=2.7->matplotlib->python-chi) (1.16.0)\n",
      "Requirement already satisfied: charset-normalizer<4,>=2 in /home/cc/.local/lib/python3.10/site-packages (from requests>=2.14.2->keystoneauth1>=3.18.0->openstacksdk) (3.4.1)\n",
      "Requirement already satisfied: certifi>=2017.4.17 in /usr/lib/python3/dist-packages (from requests>=2.14.2->keystoneauth1>=3.18.0->openstacksdk) (2020.6.20)\n",
      "Requirement already satisfied: idna<4,>=2.5 in /usr/lib/python3/dist-packages (from requests>=2.14.2->keystoneauth1>=3.18.0->openstacksdk) (3.3)\n",
      "Requirement already satisfied: urllib3<3,>=1.21.1 in /usr/lib/python3/dist-packages (from requests>=2.14.2->keystoneauth1>=3.18.0->openstacksdk) (1.26.5)\n",
      "Requirement already satisfied: asttokens>=2.1.0 in /home/cc/.local/lib/python3.10/site-packages (from stack_data->ipython->python-chi) (3.0.0)\n",
      "Requirement already satisfied: pure-eval in /home/cc/.local/lib/python3.10/site-packages (from stack_data->ipython->python-chi) (0.2.3)\n",
      "Requirement already satisfied: executing>=1.2.0 in /home/cc/.local/lib/python3.10/site-packages (from stack_data->ipython->python-chi) (2.2.0)\n",
      "Requirement already satisfied: pycparser in /home/cc/.local/lib/python3.10/site-packages (from cffi>=1.4.1->pynacl>=1.5->paramiko->python-chi) (2.22)\n",
      "Collecting pyperclip>=1.8\n",
      "  Downloading pyperclip-1.9.0.tar.gz (20 kB)\n",
      "  Preparing metadata (setup.py) ... \u001b[?25ldone\n",
      "\u001b[?25hBuilding wheels for collected packages: pyperclip\n",
      "  Building wheel for pyperclip (setup.py) ... \u001b[?25done\n",
      "\u001b[?25h  Created wheel for pyperclip: filename=pyperclip-1.9.0-py3-none-any.whl size=11014 sha256=43ce27bc9335451b5aa63c044c159c09024beeb069a242a9f437b7c09864203c\n",
      "  Stored in directory: /home/cc/.cache/pip/wheels/cc/ae/36/ee17d1de094fcb61e24106cb329b5103861e819f94bef5e10a\n",
      "Successfully built pyperclip\n",
      "Installing collected packages: requestsexceptions, pyperclip, wrapt, rfc3986, PrettyTable, platformdirs, pillow, pbr, networkx, netaddr, msgpack, kiwisolver, jmespath, iso8601, invoke, fonttools, cycler, contourpy, cmd2, autopage, stevedore, python-swiftclient, pynacl, oslo.i18n, os-service-types, matplotlib, deprecated, debtcollector, paramiko, oslo.utils, oslo.context, oslo.config, keystoneauth1, dogpile.cache, cliff, warlock, python-cinderclient, oslo.serialization, openstacksdk, fabric, python-novaclient, python-keystoneclient, python-glanceclient, oslo.log, osc-lib, os-client-config, python-openstackclient, python-neutronclient, python-manilaclient, python-ironicclient, python-zunclient, python-chi\n",
      "\u001b[31mERROR: pip's dependency resolver does not currently take into account all the packages that are installed. This behaviour is the source of the following dependency conflicts.\n",
      "virtualenv 20.13.0+ds requires platformdirs<3,>=2, but you have platformdirs 4.3.6 which is incompatible.\u001b[0m\u001b[31m\n",
      "\u001b[0mSuccessfully installed PrettyTable-3.12.0 autopage-0.5.2 cliff-4.8.0 cmd2-2.5.9 contourpy-1.3.1 cycler-0.12.1 debtcollector-3.0.0 deprecated-1.2.15 dogpile.cache-1.3.3 fabric-3.2.2 fonttools-4.55.5 invoke-2.2.0 iso8601-2.1.0 jmespath-1.0.1 keystoneauth1-5.9.1 kiwisolver-1.4.8 matplotlib-3.10.0 msgpack-1.1.0 netaddr-1.3.0 networkx-3.4.2 openstacksdk-4.2.0 os-client-config-2.1.0 os-service-types-1.7.0 osc-lib-3.2.0 oslo.config-9.7.0 oslo.context-5.7.0 oslo.i18n-6.5.0 oslo.log-7.0.0 oslo.serialization-5.6.0 oslo.utils-8.0.0 paramiko-3.5.0 pbr-6.1.0 pillow-11.1.0 platformdirs-4.3.6 pynacl-1.5.0 pyperclip-1.9.0 python-chi-1.0.6 python-cinderclient-9.6.0 python-glanceclient-4.7.0 python-ironicclient-5.10.0 python-keystoneclient-5.5.0 python-manilaclient-5.2.0 python-neutronclient-11.4.0 python-novaclient-18.8.0 python-openstackclient-7.2.1 python-swiftclient-4.6.0 python-zunclient-5.2.0 requestsexceptions-1.4.0 rfc3986-2.0.0 stevedore-5.4.0 warlock-2.0.1 wrapt-1.17.2\n"
     ]
    }
   ],
   "source": [
    "!pip install openstacksdk python-chi"
   ]
  },
  {
   "cell_type": "code",
   "execution_count": 16,
   "id": "acf6b8f1-3708-47b9-8caf-f79b9bface4b",
   "metadata": {},
   "outputs": [],
   "source": [
    "import openstack, chi, chi.ssh, chi.network, chi.server, os"
   ]
  },
  {
   "cell_type": "code",
   "execution_count": 20,
   "id": "fd42310f-5d0b-4aa3-84c7-1fda1155134b",
   "metadata": {},
   "outputs": [
    {
     "name": "stdout",
     "output_type": "stream",
     "text": [
      "Now using KVM@TACC:\n",
      "URL: https://kvm.tacc.chameleoncloud.org\n",
      "Location: Austin, Texas, USA\n",
      "Support contact: help@chameleoncloud.org\n"
     ]
    }
   ],
   "source": [
    "chi.use_site(\"KVM@TACC\")\n",
    "PROJECT_NAME = \"CHI-231138\"\n",
    "chi.set(\"project_name\", PROJECT_NAME)\n",
    "from openstack import connection\n",
    "# configure openstacksdk for actions unsupported by python-chi\n",
    "os_conn = connection.Connection(\n",
    "    region_name='KVM@TACC',\n",
    "    auth={\n",
    "        'auth_url': 'https://kvm.tacc.chameleoncloud.org:5000',\n",
    "        'application_credential_id': '47f91411bfed466b8f71a58158d8be42',\n",
    "        'application_credential_secret' : 'EMrkZVxMdcSmhkS-Slo_kVz45MtRfHAVcs2XPowp63cH1axciuhmNCxdv8HzlnlCnJy0LKKqGAIKwEYpFFBYYQ',\n",
    "        'project_id': '13a1ac1ce275484caedc3394339486a1',\n",
    "        'user_domain_id': '4c2da20c54a8081ff9ac30cd276553749e8f39b7f45e80cd53b9769c8e0cbb1f',\n",
    "    },\n",
    "    compute_api_version='2',\n",
    "    identity_api_version= 3,\n",
    "    auth_type= 'v3applicationcredential'\n",
    ")"
   ]
  },
  {
   "cell_type": "code",
   "execution_count": 21,
   "id": "c2f1dbcd-82bf-4eac-8e81-eccd040af5a0",
   "metadata": {},
   "outputs": [
    {
     "ename": "Unauthorized",
     "evalue": "Error authenticating with application credential: Application credentials cannot request a scope. (HTTP 401) (Request-ID: req-73134428-6c38-454d-9998-25ea2a2ace87)",
     "output_type": "error",
     "traceback": [
      "\u001b[0;31m---------------------------------------------------------------------------\u001b[0m",
      "\u001b[0;31mUnauthorized\u001b[0m                              Traceback (most recent call last)",
      "Cell \u001b[0;32mIn[21], line 1\u001b[0m\n\u001b[0;32m----> 1\u001b[0m \u001b[43mos_conn\u001b[49m\u001b[38;5;241;43m.\u001b[39;49m\u001b[43mlist_servers\u001b[49m\u001b[43m(\u001b[49m\u001b[43m)\u001b[49m\n",
      "File \u001b[0;32m~/.local/lib/python3.10/site-packages/openstack/cloud/_compute.py:358\u001b[0m, in \u001b[0;36mComputeCloudMixin.list_servers\u001b[0;34m(self, detailed, all_projects, bare, filters)\u001b[0m\n\u001b[1;32m    353\u001b[0m \u001b[38;5;28;01mif\u001b[39;00m \u001b[38;5;129;01mnot\u001b[39;00m filters:\n\u001b[1;32m    354\u001b[0m     filters \u001b[38;5;241m=\u001b[39m {}\n\u001b[1;32m    356\u001b[0m \u001b[38;5;28;01mreturn\u001b[39;00m [\n\u001b[1;32m    357\u001b[0m     \u001b[38;5;28mself\u001b[39m\u001b[38;5;241m.\u001b[39m_expand_server(server, detailed, bare)\n\u001b[0;32m--> 358\u001b[0m     \u001b[38;5;28;01mfor\u001b[39;00m server \u001b[38;5;129;01min\u001b[39;00m \u001b[38;5;28;43mself\u001b[39;49m\u001b[38;5;241;43m.\u001b[39;49m\u001b[43mcompute\u001b[49m\u001b[38;5;241m.\u001b[39mservers(\n\u001b[1;32m    359\u001b[0m         all_projects\u001b[38;5;241m=\u001b[39mall_projects,\n\u001b[1;32m    360\u001b[0m         \u001b[38;5;241m*\u001b[39m\u001b[38;5;241m*\u001b[39mfilters,\n\u001b[1;32m    361\u001b[0m     )\n\u001b[1;32m    362\u001b[0m ]\n",
      "File \u001b[0;32m~/.local/lib/python3.10/site-packages/openstack/service_description.py:89\u001b[0m, in \u001b[0;36mServiceDescription.__get__\u001b[0;34m(self, instance, owner)\u001b[0m\n\u001b[1;32m     87\u001b[0m     \u001b[38;5;28;01mreturn\u001b[39;00m \u001b[38;5;28mself\u001b[39m\n\u001b[1;32m     88\u001b[0m \u001b[38;5;28;01mif\u001b[39;00m \u001b[38;5;28mself\u001b[39m\u001b[38;5;241m.\u001b[39mservice_type \u001b[38;5;129;01mnot\u001b[39;00m \u001b[38;5;129;01min\u001b[39;00m instance\u001b[38;5;241m.\u001b[39m_proxies:\n\u001b[0;32m---> 89\u001b[0m     proxy \u001b[38;5;241m=\u001b[39m \u001b[38;5;28;43mself\u001b[39;49m\u001b[38;5;241;43m.\u001b[39;49m\u001b[43m_make_proxy\u001b[49m\u001b[43m(\u001b[49m\u001b[43minstance\u001b[49m\u001b[43m)\u001b[49m\n\u001b[1;32m     90\u001b[0m     \u001b[38;5;28;01mif\u001b[39;00m \u001b[38;5;129;01mnot\u001b[39;00m \u001b[38;5;28misinstance\u001b[39m(proxy, _ServiceDisabledProxyShim):\n\u001b[1;32m     91\u001b[0m         \u001b[38;5;66;03m# The keystone proxy has a method called get_endpoint\u001b[39;00m\n\u001b[1;32m     92\u001b[0m         \u001b[38;5;66;03m# that is about managing keystone endpoints. This is\u001b[39;00m\n\u001b[1;32m     93\u001b[0m         \u001b[38;5;66;03m# unfortunate.\u001b[39;00m\n\u001b[1;32m     94\u001b[0m         \u001b[38;5;28;01mtry\u001b[39;00m:\n",
      "File \u001b[0;32m~/.local/lib/python3.10/site-packages/openstack/service_description.py:287\u001b[0m, in \u001b[0;36mServiceDescription._make_proxy\u001b[0;34m(self, instance)\u001b[0m\n\u001b[1;32m    280\u001b[0m     version_kwargs[\u001b[38;5;124m'\u001b[39m\u001b[38;5;124mmax_version\u001b[39m\u001b[38;5;124m'\u001b[39m] \u001b[38;5;241m=\u001b[39m (\n\u001b[1;32m    281\u001b[0m         \u001b[38;5;124mf\u001b[39m\u001b[38;5;124m'\u001b[39m\u001b[38;5;132;01m{\u001b[39;00m\u001b[38;5;28mstr\u001b[39m(supported_versions[\u001b[38;5;241m-\u001b[39m\u001b[38;5;241m1\u001b[39m])\u001b[38;5;132;01m}\u001b[39;00m\u001b[38;5;124m.latest\u001b[39m\u001b[38;5;124m'\u001b[39m\n\u001b[1;32m    282\u001b[0m     )\n\u001b[1;32m    284\u001b[0m temp_adapter \u001b[38;5;241m=\u001b[39m config\u001b[38;5;241m.\u001b[39mget_session_client(\n\u001b[1;32m    285\u001b[0m     \u001b[38;5;28mself\u001b[39m\u001b[38;5;241m.\u001b[39mservice_type, allow_version_hack\u001b[38;5;241m=\u001b[39m\u001b[38;5;28;01mTrue\u001b[39;00m, \u001b[38;5;241m*\u001b[39m\u001b[38;5;241m*\u001b[39mversion_kwargs\n\u001b[1;32m    286\u001b[0m )\n\u001b[0;32m--> 287\u001b[0m found_version \u001b[38;5;241m=\u001b[39m \u001b[43mtemp_adapter\u001b[49m\u001b[38;5;241;43m.\u001b[39;49m\u001b[43mget_api_major_version\u001b[49m\u001b[43m(\u001b[49m\u001b[43m)\u001b[49m\n\u001b[1;32m    288\u001b[0m \u001b[38;5;28;01mif\u001b[39;00m found_version \u001b[38;5;129;01mis\u001b[39;00m \u001b[38;5;28;01mNone\u001b[39;00m:\n\u001b[1;32m    289\u001b[0m     region_name \u001b[38;5;241m=\u001b[39m instance\u001b[38;5;241m.\u001b[39mconfig\u001b[38;5;241m.\u001b[39mget_region_name(\u001b[38;5;28mself\u001b[39m\u001b[38;5;241m.\u001b[39mservice_type)\n",
      "File \u001b[0;32m~/.local/lib/python3.10/site-packages/keystoneauth1/adapter.py:407\u001b[0m, in \u001b[0;36m_BaseAdapter.get_api_major_version\u001b[0;34m(self, auth, **kwargs)\u001b[0m\n\u001b[1;32m    404\u001b[0m \u001b[38;5;28;01mif\u001b[39;00m \u001b[38;5;28mself\u001b[39m\u001b[38;5;241m.\u001b[39mendpoint_override:\n\u001b[1;32m    405\u001b[0m     kwargs[\u001b[38;5;124m'\u001b[39m\u001b[38;5;124mendpoint_override\u001b[39m\u001b[38;5;124m'\u001b[39m] \u001b[38;5;241m=\u001b[39m \u001b[38;5;28mself\u001b[39m\u001b[38;5;241m.\u001b[39mendpoint_override\n\u001b[0;32m--> 407\u001b[0m \u001b[38;5;28;01mreturn\u001b[39;00m \u001b[38;5;28;43mself\u001b[39;49m\u001b[38;5;241;43m.\u001b[39;49m\u001b[43msession\u001b[49m\u001b[38;5;241;43m.\u001b[39;49m\u001b[43mget_api_major_version\u001b[49m\u001b[43m(\u001b[49m\u001b[43mauth\u001b[49m\u001b[43m \u001b[49m\u001b[38;5;129;43;01mor\u001b[39;49;00m\u001b[43m \u001b[49m\u001b[38;5;28;43mself\u001b[39;49m\u001b[38;5;241;43m.\u001b[39;49m\u001b[43mauth\u001b[49m\u001b[43m,\u001b[49m\u001b[43m \u001b[49m\u001b[38;5;241;43m*\u001b[39;49m\u001b[38;5;241;43m*\u001b[39;49m\u001b[43mkwargs\u001b[49m\u001b[43m)\u001b[49m\n",
      "File \u001b[0;32m~/.local/lib/python3.10/site-packages/keystoneauth1/session.py:1480\u001b[0m, in \u001b[0;36mSession.get_api_major_version\u001b[0;34m(self, auth, **kwargs)\u001b[0m\n\u001b[1;32m   1467\u001b[0m \u001b[38;5;250m\u001b[39m\u001b[38;5;124;03m\"\"\"Get the major API version as provided by the auth plugin.\u001b[39;00m\n\u001b[1;32m   1468\u001b[0m \n\u001b[1;32m   1469\u001b[0m \u001b[38;5;124;03m:param auth: The auth plugin to use for token. Overrides the plugin on\u001b[39;00m\n\u001b[0;32m   (...)\u001b[0m\n\u001b[1;32m   1477\u001b[0m \u001b[38;5;124;03m:rtype: tuple or None\u001b[39;00m\n\u001b[1;32m   1478\u001b[0m \u001b[38;5;124;03m\"\"\"\u001b[39;00m\n\u001b[1;32m   1479\u001b[0m auth \u001b[38;5;241m=\u001b[39m \u001b[38;5;28mself\u001b[39m\u001b[38;5;241m.\u001b[39m_auth_required(auth, \u001b[38;5;124m'\u001b[39m\u001b[38;5;124mdetermine endpoint URL\u001b[39m\u001b[38;5;124m'\u001b[39m)\n\u001b[0;32m-> 1480\u001b[0m \u001b[38;5;28;01mreturn\u001b[39;00m \u001b[43mauth\u001b[49m\u001b[38;5;241;43m.\u001b[39;49m\u001b[43mget_api_major_version\u001b[49m\u001b[43m(\u001b[49m\u001b[38;5;28;43mself\u001b[39;49m\u001b[43m,\u001b[49m\u001b[43m \u001b[49m\u001b[38;5;241;43m*\u001b[39;49m\u001b[38;5;241;43m*\u001b[39;49m\u001b[43mkwargs\u001b[49m\u001b[43m)\u001b[49m\n",
      "File \u001b[0;32m~/.local/lib/python3.10/site-packages/keystoneauth1/identity/base.py:574\u001b[0m, in \u001b[0;36mBaseIdentityPlugin.get_api_major_version\u001b[0;34m(self, session, endpoint_override, service_type, interface, region_name, service_name, version, allow, allow_version_hack, skip_discovery, discover_versions, min_version, max_version, **kwargs)\u001b[0m\n\u001b[1;32m    558\u001b[0m \u001b[38;5;66;03m# Using functools.partial here just to reduce copy-pasta of params\u001b[39;00m\n\u001b[1;32m    559\u001b[0m get_endpoint_data \u001b[38;5;241m=\u001b[39m functools\u001b[38;5;241m.\u001b[39mpartial(\n\u001b[1;32m    560\u001b[0m     \u001b[38;5;28mself\u001b[39m\u001b[38;5;241m.\u001b[39mget_endpoint_data,\n\u001b[1;32m    561\u001b[0m     session,\n\u001b[0;32m   (...)\u001b[0m\n\u001b[1;32m    572\u001b[0m     \u001b[38;5;241m*\u001b[39m\u001b[38;5;241m*\u001b[39mkwargs,\n\u001b[1;32m    573\u001b[0m )\n\u001b[0;32m--> 574\u001b[0m data \u001b[38;5;241m=\u001b[39m \u001b[43mget_endpoint_data\u001b[49m\u001b[43m(\u001b[49m\u001b[43mdiscover_versions\u001b[49m\u001b[38;5;241;43m=\u001b[39;49m\u001b[43mdiscover_versions\u001b[49m\u001b[43m)\u001b[49m\n\u001b[1;32m    575\u001b[0m \u001b[38;5;28;01mif\u001b[39;00m (\u001b[38;5;129;01mnot\u001b[39;00m data \u001b[38;5;129;01mor\u001b[39;00m \u001b[38;5;129;01mnot\u001b[39;00m data\u001b[38;5;241m.\u001b[39mapi_version) \u001b[38;5;129;01mand\u001b[39;00m \u001b[38;5;129;01mnot\u001b[39;00m discover_versions:\n\u001b[1;32m    576\u001b[0m     \u001b[38;5;66;03m# It's possible that no version was requested and the endpoint\u001b[39;00m\n\u001b[1;32m    577\u001b[0m     \u001b[38;5;66;03m# in the catalog has no version in the URL. A version has been\u001b[39;00m\n\u001b[1;32m    578\u001b[0m     \u001b[38;5;66;03m# requested, so now it's ok to run discovery.\u001b[39;00m\n\u001b[1;32m    580\u001b[0m     data \u001b[38;5;241m=\u001b[39m get_endpoint_data(discover_versions\u001b[38;5;241m=\u001b[39m\u001b[38;5;28;01mTrue\u001b[39;00m)\n",
      "File \u001b[0;32m~/.local/lib/python3.10/site-packages/keystoneauth1/identity/base.py:300\u001b[0m, in \u001b[0;36mBaseIdentityPlugin.get_endpoint_data\u001b[0;34m(self, session, endpoint_override, discover_versions, service_type, interface, region_name, service_name, allow, allow_version_hack, skip_discovery, min_version, max_version, **kwargs)\u001b[0m\n\u001b[1;32m    297\u001b[0m \u001b[38;5;28;01mif\u001b[39;00m \u001b[38;5;129;01mnot\u001b[39;00m interface:\n\u001b[1;32m    298\u001b[0m     interface \u001b[38;5;241m=\u001b[39m \u001b[38;5;124m'\u001b[39m\u001b[38;5;124mpublic\u001b[39m\u001b[38;5;124m'\u001b[39m\n\u001b[0;32m--> 300\u001b[0m service_catalog \u001b[38;5;241m=\u001b[39m \u001b[38;5;28;43mself\u001b[39;49m\u001b[38;5;241;43m.\u001b[39;49m\u001b[43mget_access\u001b[49m\u001b[43m(\u001b[49m\u001b[43msession\u001b[49m\u001b[43m)\u001b[49m\u001b[38;5;241m.\u001b[39mservice_catalog\n\u001b[1;32m    301\u001b[0m project_id \u001b[38;5;241m=\u001b[39m \u001b[38;5;28mself\u001b[39m\u001b[38;5;241m.\u001b[39mget_project_id(session)\n\u001b[1;32m    302\u001b[0m \u001b[38;5;66;03m# NOTE(mordred): service_catalog.url_data_for raises if it can't\u001b[39;00m\n\u001b[1;32m    303\u001b[0m \u001b[38;5;66;03m# find a match, so this will always be a valid object.\u001b[39;00m\n",
      "File \u001b[0;32m~/.local/lib/python3.10/site-packages/keystoneauth1/identity/base.py:143\u001b[0m, in \u001b[0;36mBaseIdentityPlugin.get_access\u001b[0;34m(self, session, **kwargs)\u001b[0m\n\u001b[1;32m    141\u001b[0m \u001b[38;5;28;01mwith\u001b[39;00m \u001b[38;5;28mself\u001b[39m\u001b[38;5;241m.\u001b[39m_lock:\n\u001b[1;32m    142\u001b[0m     \u001b[38;5;28;01mif\u001b[39;00m \u001b[38;5;28mself\u001b[39m\u001b[38;5;241m.\u001b[39m_needs_reauthenticate():\n\u001b[0;32m--> 143\u001b[0m         \u001b[38;5;28mself\u001b[39m\u001b[38;5;241m.\u001b[39mauth_ref \u001b[38;5;241m=\u001b[39m \u001b[38;5;28;43mself\u001b[39;49m\u001b[38;5;241;43m.\u001b[39;49m\u001b[43mget_auth_ref\u001b[49m\u001b[43m(\u001b[49m\u001b[43msession\u001b[49m\u001b[43m)\u001b[49m\n\u001b[1;32m    145\u001b[0m \u001b[38;5;66;03m# narrow type\u001b[39;00m\n\u001b[1;32m    146\u001b[0m \u001b[38;5;28;01massert\u001b[39;00m \u001b[38;5;28mself\u001b[39m\u001b[38;5;241m.\u001b[39mauth_ref \u001b[38;5;129;01mis\u001b[39;00m \u001b[38;5;129;01mnot\u001b[39;00m \u001b[38;5;28;01mNone\u001b[39;00m  \u001b[38;5;66;03m# nosec B101\u001b[39;00m\n",
      "File \u001b[0;32m~/.local/lib/python3.10/site-packages/keystoneauth1/identity/v3/base.py:241\u001b[0m, in \u001b[0;36mAuth.get_auth_ref\u001b[0;34m(self, session, **kwargs)\u001b[0m\n\u001b[1;32m    238\u001b[0m     token_url \u001b[38;5;241m+\u001b[39m\u001b[38;5;241m=\u001b[39m \u001b[38;5;124m'\u001b[39m\u001b[38;5;124m?nocatalog\u001b[39m\u001b[38;5;124m'\u001b[39m\n\u001b[1;32m    240\u001b[0m _logger\u001b[38;5;241m.\u001b[39mdebug(\u001b[38;5;124m'\u001b[39m\u001b[38;5;124mMaking authentication request to \u001b[39m\u001b[38;5;132;01m%s\u001b[39;00m\u001b[38;5;124m'\u001b[39m, token_url)\n\u001b[0;32m--> 241\u001b[0m resp \u001b[38;5;241m=\u001b[39m \u001b[43msession\u001b[49m\u001b[38;5;241;43m.\u001b[39;49m\u001b[43mpost\u001b[49m\u001b[43m(\u001b[49m\n\u001b[1;32m    242\u001b[0m \u001b[43m    \u001b[49m\u001b[43mtoken_url\u001b[49m\u001b[43m,\u001b[49m\n\u001b[1;32m    243\u001b[0m \u001b[43m    \u001b[49m\u001b[43mjson\u001b[49m\u001b[38;5;241;43m=\u001b[39;49m\u001b[43mbody\u001b[49m\u001b[43m,\u001b[49m\n\u001b[1;32m    244\u001b[0m \u001b[43m    \u001b[49m\u001b[43mheaders\u001b[49m\u001b[38;5;241;43m=\u001b[39;49m\u001b[43mheaders\u001b[49m\u001b[43m,\u001b[49m\n\u001b[1;32m    245\u001b[0m \u001b[43m    \u001b[49m\u001b[43mauthenticated\u001b[49m\u001b[38;5;241;43m=\u001b[39;49m\u001b[38;5;28;43;01mFalse\u001b[39;49;00m\u001b[43m,\u001b[49m\n\u001b[1;32m    246\u001b[0m \u001b[43m    \u001b[49m\u001b[43mlog\u001b[49m\u001b[38;5;241;43m=\u001b[39;49m\u001b[38;5;28;43;01mFalse\u001b[39;49;00m\u001b[43m,\u001b[49m\n\u001b[1;32m    247\u001b[0m \u001b[43m    \u001b[49m\u001b[38;5;241;43m*\u001b[39;49m\u001b[38;5;241;43m*\u001b[39;49m\u001b[43mrkwargs\u001b[49m\u001b[43m,\u001b[49m\n\u001b[1;32m    248\u001b[0m \u001b[43m\u001b[49m\u001b[43m)\u001b[49m\n\u001b[1;32m    250\u001b[0m \u001b[38;5;28;01mtry\u001b[39;00m:\n\u001b[1;32m    251\u001b[0m     _logger\u001b[38;5;241m.\u001b[39mdebug(json\u001b[38;5;241m.\u001b[39mdumps(resp\u001b[38;5;241m.\u001b[39mjson()))\n",
      "File \u001b[0;32m~/.local/lib/python3.10/site-packages/keystoneauth1/session.py:1334\u001b[0m, in \u001b[0;36mSession.post\u001b[0;34m(self, url, **kwargs)\u001b[0m\n\u001b[1;32m   1329\u001b[0m \u001b[38;5;28;01mdef\u001b[39;00m\u001b[38;5;250m \u001b[39m\u001b[38;5;21mpost\u001b[39m(\u001b[38;5;28mself\u001b[39m, url: \u001b[38;5;28mstr\u001b[39m, \u001b[38;5;241m*\u001b[39m\u001b[38;5;241m*\u001b[39mkwargs: ty\u001b[38;5;241m.\u001b[39mAny) \u001b[38;5;241m-\u001b[39m\u001b[38;5;241m>\u001b[39m requests\u001b[38;5;241m.\u001b[39mResponse:\n\u001b[1;32m   1330\u001b[0m \u001b[38;5;250m    \u001b[39m\u001b[38;5;124;03m\"\"\"Perform a POST request.\u001b[39;00m\n\u001b[1;32m   1331\u001b[0m \n\u001b[1;32m   1332\u001b[0m \u001b[38;5;124;03m    This calls :py:meth:`.request()` with ``method`` set to ``POST``.\u001b[39;00m\n\u001b[1;32m   1333\u001b[0m \u001b[38;5;124;03m    \"\"\"\u001b[39;00m\n\u001b[0;32m-> 1334\u001b[0m     \u001b[38;5;28;01mreturn\u001b[39;00m \u001b[38;5;28;43mself\u001b[39;49m\u001b[38;5;241;43m.\u001b[39;49m\u001b[43mrequest\u001b[49m\u001b[43m(\u001b[49m\u001b[43murl\u001b[49m\u001b[43m,\u001b[49m\u001b[43m \u001b[49m\u001b[38;5;124;43m'\u001b[39;49m\u001b[38;5;124;43mPOST\u001b[39;49m\u001b[38;5;124;43m'\u001b[39;49m\u001b[43m,\u001b[49m\u001b[43m \u001b[49m\u001b[38;5;241;43m*\u001b[39;49m\u001b[38;5;241;43m*\u001b[39;49m\u001b[43mkwargs\u001b[49m\u001b[43m)\u001b[49m\n",
      "File \u001b[0;32m~/.local/lib/python3.10/site-packages/keystoneauth1/session.py:1118\u001b[0m, in \u001b[0;36mSession.request\u001b[0;34m(self, url, method, json, original_ip, user_agent, redirect, authenticated, endpoint_filter, auth, requests_auth, raise_exc, allow_reauth, log, endpoint_override, connect_retries, logger, allow, client_name, client_version, microversion, microversion_service_type, status_code_retries, retriable_status_codes, rate_semaphore, global_request_id, connect_retry_delay, status_code_retry_delay, **kwargs)\u001b[0m\n\u001b[1;32m   1114\u001b[0m \u001b[38;5;28;01mif\u001b[39;00m raise_exc \u001b[38;5;129;01mand\u001b[39;00m resp\u001b[38;5;241m.\u001b[39mstatus_code \u001b[38;5;241m>\u001b[39m\u001b[38;5;241m=\u001b[39m \u001b[38;5;241m400\u001b[39m:\n\u001b[1;32m   1115\u001b[0m     logger\u001b[38;5;241m.\u001b[39mdebug(\n\u001b[1;32m   1116\u001b[0m         \u001b[38;5;124m'\u001b[39m\u001b[38;5;124mRequest returned failure status: \u001b[39m\u001b[38;5;132;01m%s\u001b[39;00m\u001b[38;5;124m'\u001b[39m, resp\u001b[38;5;241m.\u001b[39mstatus_code\n\u001b[1;32m   1117\u001b[0m     )\n\u001b[0;32m-> 1118\u001b[0m     \u001b[38;5;28;01mraise\u001b[39;00m exceptions\u001b[38;5;241m.\u001b[39mfrom_response(resp, method, url)\n\u001b[1;32m   1120\u001b[0m \u001b[38;5;28;01mif\u001b[39;00m \u001b[38;5;28mself\u001b[39m\u001b[38;5;241m.\u001b[39m_collect_timing:\n\u001b[1;32m   1121\u001b[0m     \u001b[38;5;28;01mfor\u001b[39;00m h \u001b[38;5;129;01min\u001b[39;00m resp\u001b[38;5;241m.\u001b[39mhistory:\n",
      "\u001b[0;31mUnauthorized\u001b[0m: Error authenticating with application credential: Application credentials cannot request a scope. (HTTP 401) (Request-ID: req-73134428-6c38-454d-9998-25ea2a2ace87)"
     ]
    }
   ],
   "source": [
    "os_conn.list_servers()"
   ]
  },
  {
   "cell_type": "code",
   "execution_count": null,
   "id": "5461035d-1653-444c-99ed-cb4a3c6ab0e7",
   "metadata": {},
   "outputs": [],
   "source": []
  }
 ],
 "metadata": {
  "kernelspec": {
   "display_name": "Python 3 (ipykernel)",
   "language": "python",
   "name": "python3"
  },
  "language_info": {
   "codemirror_mode": {
    "name": "ipython",
    "version": 3
   },
   "file_extension": ".py",
   "mimetype": "text/x-python",
   "name": "python",
   "nbconvert_exporter": "python",
   "pygments_lexer": "ipython3",
   "version": "3.10.12"
  }
 },
 "nbformat": 4,
 "nbformat_minor": 5
}
